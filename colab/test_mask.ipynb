{
  "nbformat": 4,
  "nbformat_minor": 0,
  "metadata": {
    "colab": {
      "name": "test_mask.ipynb",
      "provenance": [],
      "collapsed_sections": []
    },
    "kernelspec": {
      "name": "python3",
      "display_name": "Python 3"
    },
    "accelerator": "GPU"
  },
  "cells": [
    {
      "cell_type": "code",
      "metadata": {
        "id": "X1gdfQVs5Rdk",
        "colab_type": "code",
        "colab": {
          "base_uri": "https://localhost:8080/",
          "height": 357
        },
        "outputId": "e196c59a-939c-4758-e089-028bf457d25c"
      },
      "source": [
        "!nvidia-smi"
      ],
      "execution_count": null,
      "outputs": [
        {
          "output_type": "stream",
          "text": [
            "Tue Jul  7 10:16:40 2020       \n",
            "+-----------------------------------------------------------------------------+\n",
            "| NVIDIA-SMI 450.36.06    Driver Version: 418.67       CUDA Version: 10.1     |\n",
            "|-------------------------------+----------------------+----------------------+\n",
            "| GPU  Name        Persistence-M| Bus-Id        Disp.A | Volatile Uncorr. ECC |\n",
            "| Fan  Temp  Perf  Pwr:Usage/Cap|         Memory-Usage | GPU-Util  Compute M. |\n",
            "|                               |                      |               MIG M. |\n",
            "|===============================+======================+======================|\n",
            "|   0  Tesla K80           Off  | 00000000:00:04.0 Off |                    0 |\n",
            "| N/A   31C    P8    28W / 149W |      0MiB / 11441MiB |      0%      Default |\n",
            "|                               |                      |                 ERR! |\n",
            "+-------------------------------+----------------------+----------------------+\n",
            "                                                                               \n",
            "+-----------------------------------------------------------------------------+\n",
            "| Processes:                                                                  |\n",
            "|  GPU   GI   CI        PID   Type   Process name                  GPU Memory |\n",
            "|        ID   ID                                                   Usage      |\n",
            "|=============================================================================|\n",
            "|  No running processes found                                                 |\n",
            "+-----------------------------------------------------------------------------+\n"
          ],
          "name": "stdout"
        }
      ]
    },
    {
      "cell_type": "code",
      "metadata": {
        "id": "kGF0u1cS6LOb",
        "colab_type": "code",
        "colab": {
          "base_uri": "https://localhost:8080/",
          "height": 122
        },
        "outputId": "8cf78f80-59c1-4036-f0f6-feae982e8b23"
      },
      "source": [
        "from google.colab import drive\n",
        "drive.mount('/content/drive')"
      ],
      "execution_count": null,
      "outputs": [
        {
          "output_type": "stream",
          "text": [
            "Go to this URL in a browser: https://accounts.google.com/o/oauth2/auth?client_id=947318989803-6bn6qk8qdgf4n4g3pfee6491hc0brc4i.apps.googleusercontent.com&redirect_uri=urn%3aietf%3awg%3aoauth%3a2.0%3aoob&response_type=code&scope=email%20https%3a%2f%2fwww.googleapis.com%2fauth%2fdocs.test%20https%3a%2f%2fwww.googleapis.com%2fauth%2fdrive%20https%3a%2f%2fwww.googleapis.com%2fauth%2fdrive.photos.readonly%20https%3a%2f%2fwww.googleapis.com%2fauth%2fpeopleapi.readonly\n",
            "\n",
            "Enter your authorization code:\n",
            "··········\n",
            "Mounted at /content/drive\n"
          ],
          "name": "stdout"
        }
      ]
    },
    {
      "cell_type": "code",
      "metadata": {
        "id": "vO7iHdxh5cBj",
        "colab_type": "code",
        "colab": {
          "base_uri": "https://localhost:8080/",
          "height": 182
        },
        "outputId": "66f67017-082b-4f57-89b9-657a24b8481d"
      },
      "source": [
        "!mkdir coco\n",
        "%cd coco\n",
        "!wget http://images.cocodataset.org/zips/train2017.zip && unzip train2017.zip && rm train2017.zip\n",
        "!wget http://images.cocodataset.org/zips/val2017.zip && unzip val2017.zip && rm val2017.zip\n",
        "!wget http://images.cocodataset.org/annotations/annotations_trainval2017.zip && unzip annotations_trainval2017.zip && rm annotations_trainval2017.zip\n",
        "%cd ../"
      ],
      "execution_count": null,
      "outputs": [
        {
          "output_type": "stream",
          "text": [
            "/content/coco\n",
            "--2020-07-07 10:17:11--  http://images.cocodataset.org/zips/train2017.zip\n",
            "Resolving images.cocodataset.org (images.cocodataset.org)... 52.216.99.75\n",
            "Connecting to images.cocodataset.org (images.cocodataset.org)|52.216.99.75|:80... connected.\n",
            "HTTP request sent, awaiting response... 200 OK\n",
            "Length: 19336861798 (18G) [application/zip]\n",
            "Saving to: ‘train2017.zip’\n",
            "\n",
            "train2017.zip        43%[=======>            ]   7.82G  16.3MB/s    eta 10m 56s"
          ],
          "name": "stdout"
        }
      ]
    },
    {
      "cell_type": "code",
      "metadata": {
        "id": "sdSS_RxcAI13",
        "colab_type": "code",
        "colab": {}
      },
      "source": [
        "!pip install webcolors yacs\n",
        "!pip install -U 'git+https://github.com/cocodataset/cocoapi.git#subdirectory=PythonAPI'\n",
        "!pip install tensorboardX\n",
        "import torch, torchvision\n",
        "print(torch.__version__, torch.cuda.is_available())"
      ],
      "execution_count": null,
      "outputs": []
    },
    {
      "cell_type": "code",
      "metadata": {
        "id": "ykM8f7Am6Lrd",
        "colab_type": "code",
        "colab": {}
      },
      "source": [
        "!git clone -b mask https://github.com/anslt/Yet-Another-EfficientDet-Pytorch.git"
      ],
      "execution_count": null,
      "outputs": []
    },
    {
      "cell_type": "code",
      "metadata": {
        "id": "vBuKrDeO-vG8",
        "colab_type": "code",
        "colab": {}
      },
      "source": [
        "%cd Yet-Another-EfficientDet-Pytorch/\n",
        "%mkdir datasets\n",
        "%mv /content/coco ./datasets"
      ],
      "execution_count": null,
      "outputs": []
    },
    {
      "cell_type": "code",
      "metadata": {
        "id": "s7szWgnzoYTI",
        "colab_type": "code",
        "colab": {}
      },
      "source": [
        "!python setup.py build develop"
      ],
      "execution_count": null,
      "outputs": []
    },
    {
      "cell_type": "code",
      "metadata": {
        "id": "SbFxjUW_csrl",
        "colab_type": "code",
        "colab": {}
      },
      "source": [
        "# Load the TensorBoard notebook extension\n",
        "%load_ext tensorboard\n",
        "import tensorflow as tf\n",
        "import datetime, os\n",
        "%tensorboard --logdir /content/Yet-Another-EfficientDet-Pytorch/logs/coco/tensorboard"
      ],
      "execution_count": null,
      "outputs": []
    },
    {
      "cell_type": "code",
      "metadata": {
        "id": "zxibmreYcLxs",
        "colab_type": "code",
        "colab": {
          "base_uri": "https://localhost:8080/",
          "height": 85
        },
        "outputId": "50ba1a92-459c-44aa-8f8b-761733a61524"
      },
      "source": [
        "%cd /content/Yet-Another-EfficientDet-Pytorch/\n",
        "!git pull origin mask"
      ],
      "execution_count": null,
      "outputs": [
        {
          "output_type": "stream",
          "text": [
            "/content/Yet-Another-EfficientDet-Pytorch\n",
            "From https://github.com/anslt/Yet-Another-EfficientDet-Pytorch\n",
            " * branch            mask       -> FETCH_HEAD\n",
            "Already up to date.\n"
          ],
          "name": "stdout"
        }
      ]
    },
    {
      "cell_type": "code",
      "metadata": {
        "id": "dSdwxtAV_eI8",
        "colab_type": "code",
        "colab": {}
      },
      "source": [
        "#!rm -rf \"/content/drive/My Drive/res/coco\"\n",
        "# !python train_mask.py --config-file projects/efficientdet.yaml -c 0 -p coco --num_epochs 6 --num_workers 4 --head_only True --lr 1e-5 --batch_size 24 --load_weights \"/content/drive/My Drive/efficientdet_weights/efficientdet-d0.pth\"  --num_epochs 4 --saved_path \"/content/drive/My Drive/efficientdet_weights\" --saved_path \"/content/drive/My Drive/res\"\n",
        "# mask_only\n",
        "!python train_mask.py --config-file projects/efficientdet.yaml -c 0 -p coco --num_epochs 6 --num_workers 4 --mask_only True --lr 1e-5 --batch_size 5 --load_weights \"/content/drive/My Drive/efficientdet_weights/efficientdet-d0.pth\" --saved_path \"/content/drive/My Drive/res\""
      ],
      "execution_count": null,
      "outputs": []
    },
    {
      "cell_type": "code",
      "metadata": {
        "id": "ETG0KIdo_xbZ",
        "colab_type": "code",
        "colab": {
          "base_uri": "https://localhost:8080/",
          "height": 513
        },
        "outputId": "c28cd9a6-4c90-4972-d7c7-75808487638c"
      },
      "source": [
        "!python test_mask.py -n 0 --batch_size 5 -p coco -cfg projects/efficientdet.yaml -c 0 -w \"/content/drive/My Drive/res/efficientdet-d0_0_0.pth\" --data_path \"/content/Yet-Another-EfficientDet-Pytorch/datasets/\" --cuda True"
      ],
      "execution_count": null,
      "outputs": [
        {
          "output_type": "stream",
          "text": [
            "running coco-style evaluation on project coco, weights /content/drive/My Drive/res/efficientdet-d0_0_0.pth...\n",
            "loading annotations into memory...\n",
            "Done (t=0.48s)\n",
            "creating index...\n",
            "index created!\n",
            "0it [00:00, ?it/s]/pytorch/torch/csrc/utils/python_arg_parser.cpp:756: UserWarning: This overload of nonzero is deprecated:\n",
            "\tnonzero(Tensor input, *, Tensor out)\n",
            "Consider using one of the following signatures instead:\n",
            "\tnonzero(Tensor input, *, bool as_tuple)\n",
            "1000it [04:38,  3.59it/s]\n",
            "Traceback (most recent call last):\n",
            "  File \"test_mask.py\", line 132, in <module>\n",
            "    main()\n",
            "  File \"test_mask.py\", line 126, in main\n",
            "    output_folder=output_folder,\n",
            "  File \"/content/Yet-Another-EfficientDet-Pytorch/maskrcnn_benchmark/engine/inference.py\", line 447, in inference\n",
            "    coco_results[\"segm\"] = prepare_for_coco_segmentation(predictions, dataset)\n",
            "  File \"/content/Yet-Another-EfficientDet-Pytorch/maskrcnn_benchmark/engine/inference.py\", line 123, in prepare_for_coco_segmentation\n",
            "    masks = masker(masks, prediction)\n",
            "  File \"/content/Yet-Another-EfficientDet-Pytorch/maskrcnn_benchmark/modeling/roi_heads/mask_head/inference.py\", line 182, in __call__\n",
            "    result = self.forward_single_image(masks, boxes[0])\n",
            "  File \"/content/Yet-Another-EfficientDet-Pytorch/maskrcnn_benchmark/modeling/roi_heads/mask_head/inference.py\", line 169, in forward_single_image\n",
            "    for mask, box in zip(masks, boxes.bbox)\n",
            "  File \"/content/Yet-Another-EfficientDet-Pytorch/maskrcnn_benchmark/modeling/roi_heads/mask_head/inference.py\", line 169, in <listcomp>\n",
            "    for mask, box in zip(masks, boxes.bbox)\n",
            "  File \"/content/Yet-Another-EfficientDet-Pytorch/maskrcnn_benchmark/modeling/roi_heads/mask_head/inference.py\", line 149, in paste_mask_in_image\n",
            "    (y_0 - box[1]) : (y_1 - box[1]), (x_0 - box[0]) : (x_1 - box[0])\n",
            "RuntimeError: The expanded size of the tensor (639) must match the existing size (0) at non-singleton dimension 1.  Target sizes: [56, 639].  Tensor sizes: [56, 0]\n"
          ],
          "name": "stdout"
        }
      ]
    },
    {
      "cell_type": "code",
      "metadata": {
        "id": "y2euISYDN4fp",
        "colab_type": "code",
        "colab": {}
      },
      "source": [
        ""
      ],
      "execution_count": null,
      "outputs": []
    }
  ]
}